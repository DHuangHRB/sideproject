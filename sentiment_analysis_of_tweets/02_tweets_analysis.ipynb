{
 "cells": [
  {
   "cell_type": "code",
   "execution_count": null,
   "metadata": {
    "collapsed": false
   },
   "outputs": [],
   "source": [
    "from nltk.corpus import stopwords\n",
    "from textblob import TextBlob\n",
    "import re\n",
    "import jsonpickle\n",
    "import wordcloud\n",
    "import matplotlib.pyplot as plt\n",
    "from collections import Counter, defaultdict\n",
    "import pandas as pd"
   ]
  },
  {
   "cell_type": "code",
   "execution_count": null,
   "metadata": {
    "collapsed": true
   },
   "outputs": [],
   "source": [
    "tweets = []\n",
    "with open('tweets_kingsman.txt', 'r') as fr:\n",
    "    for f in fr.readlines():\n",
    "        tweets.append(jsonpickle.decode(f)['text'])"
   ]
  },
  {
   "cell_type": "code",
   "execution_count": null,
   "metadata": {
    "collapsed": true
   },
   "outputs": [],
   "source": [
    "def clean_text(text):\n",
    "    text = ' '.join(re.sub(\"(@[A-Za-z0-9]+)|([^A-Za-z \\t])|(\\w+:\\/\\/\\S+)|(www\\.\\S+)\", \" \", text).lower().split())\n",
    "    stopWords = set(stopwords.words('english'))\n",
    "    text = ' '.join([word for word in text.split() if word not in stopWords])\n",
    "    return text"
   ]
  },
  {
   "cell_type": "code",
   "execution_count": null,
   "metadata": {
    "collapsed": true
   },
   "outputs": [],
   "source": [
    "def get_sentiment(text):\n",
    "    blob = TextBlob(text)\n",
    "    if blob.sentiment.polarity > 0:\n",
    "        return 'Positive'\n",
    "    elif blob.sentiment.polarity == 0:\n",
    "        return 'Neutral'\n",
    "    else:\n",
    "        return 'Negative'"
   ]
  },
  {
   "cell_type": "code",
   "execution_count": null,
   "metadata": {
    "collapsed": false
   },
   "outputs": [],
   "source": [
    "tweets_df = pd.DataFrame(tweets[0:10001], columns = ['text'])"
   ]
  },
  {
   "cell_type": "code",
   "execution_count": null,
   "metadata": {
    "collapsed": false
   },
   "outputs": [],
   "source": [
    "tweets_df['text_clean'] = tweets_df['text'].apply(clean_text)"
   ]
  },
  {
   "cell_type": "code",
   "execution_count": null,
   "metadata": {
    "collapsed": false
   },
   "outputs": [],
   "source": [
    "tweets_df['sentiment'] = tweets_df['text_clean'].apply(get_sentiment)"
   ]
  },
  {
   "cell_type": "code",
   "execution_count": null,
   "metadata": {
    "collapsed": false
   },
   "outputs": [],
   "source": [
    "tweets_pos = tweets_df[tweets_df['sentiment'] == 'Positive']"
   ]
  },
  {
   "cell_type": "code",
   "execution_count": null,
   "metadata": {
    "collapsed": false
   },
   "outputs": [],
   "source": [
    "tweets_neg = tweets_df[tweets_df['sentiment'] == 'Negative']"
   ]
  },
  {
   "cell_type": "code",
   "execution_count": null,
   "metadata": {
    "collapsed": true
   },
   "outputs": [],
   "source": [
    "tweets_neu = tweets_df[tweets_df['sentiment'] == 'Neutral']"
   ]
  },
  {
   "cell_type": "code",
   "execution_count": null,
   "metadata": {
    "collapsed": false
   },
   "outputs": [],
   "source": [
    "plt.rcParams[\"figure.figsize\"] = [8, 6]\n",
    "labels = ['Positive', 'Negative', 'Neutral']\n",
    "sizes = [len(tweets_pos) / len(tweets_df), len(tweets_neg) / len(tweets_df), len(tweets_neu) / len(tweets_df)]\n",
    "colors = ['green', 'red', 'gold']\n",
    "explode = (0.1, 0, 0)\n",
    "plt.pie(sizes, explode, labels, colors, autopct = '%1.2f%%', shadow = True, startangle = 90)\n",
    "plt.axis('equal')\n",
    "plt.show()"
   ]
  },
  {
   "cell_type": "code",
   "execution_count": null,
   "metadata": {
    "collapsed": false
   },
   "outputs": [],
   "source": [
    "movieWords = ['kingsman', 'golden', 'circle', 'secret', 'service']\n",
    "filterWords = ['see', 'seeing', 'saw', 'seen', 'watch', 'watching', 'watched', 'movie', 'movies', 'film', 'films']\n",
    "\n",
    "text_pos = []\n",
    "for tweet in tweets_pos['text_clean']:\n",
    "    text_pos.extend([w for w in tweet.split() if w not in movieWords + filterWords])\n",
    "    \n",
    "text_neg = []\n",
    "for tweet in tweets_neg['text_clean']:\n",
    "    text_neg.extend([w for w in tweet.split() if w not in movieWords + filterWords])\n"
   ]
  },
  {
   "cell_type": "code",
   "execution_count": null,
   "metadata": {
    "collapsed": true
   },
   "outputs": [],
   "source": [
    "wc = wordcloud.WordCloud(background_color = 'white', max_font_size= 100, random_state= 30)"
   ]
  },
  {
   "cell_type": "code",
   "execution_count": null,
   "metadata": {
    "collapsed": false
   },
   "outputs": [],
   "source": [
    "print(Counter(text_pos).most_common(20))"
   ]
  },
  {
   "cell_type": "code",
   "execution_count": null,
   "metadata": {
    "collapsed": false
   },
   "outputs": [],
   "source": [
    "plt.imshow(wc.generate(' '.join(text_pos)))\n",
    "plt.axis(\"off\")\n",
    "plt.show()"
   ]
  },
  {
   "cell_type": "code",
   "execution_count": null,
   "metadata": {
    "collapsed": false
   },
   "outputs": [],
   "source": [
    "print(Counter(text_neg).most_common(20))"
   ]
  },
  {
   "cell_type": "code",
   "execution_count": null,
   "metadata": {
    "collapsed": false
   },
   "outputs": [],
   "source": [
    "plt.figure(figsize = (8, 6))\n",
    "plt.imshow(wc.generate(' '.join(text_neg)))\n",
    "plt.axis(\"off\")\n",
    "plt.show()"
   ]
  },
  {
   "cell_type": "code",
   "execution_count": null,
   "metadata": {
    "collapsed": false
   },
   "outputs": [],
   "source": [
    "nrcEmotionList = defaultdict(list)\n",
    "nrc_file = \"NRC-emotion-lexicon-wordlevel-alphabetized-v0.92.txt\"\n",
    "\n",
    "with open(nrc_file, \"r\", encoding = \"utf-8\") as fr:\n",
    "    for line in fr.readlines():\n",
    "        word, emotion, value = line.replace(\"\\n\", \"\").split(\"\\t\")\n",
    "        if int(value) == 1:\n",
    "            nrcEmotionList[word].append(emotion)"
   ]
  },
  {
   "cell_type": "code",
   "execution_count": null,
   "metadata": {
    "collapsed": true
   },
   "outputs": [],
   "source": [
    "def get_nrc_sentiment(text):\n",
    "    emoCount = Counter()\n",
    "    for word in text.split():\n",
    "        if word in nrcEmotionList:\n",
    "            emoCount += Counter(nrcEmotionList[word])\n",
    "    return emoCount"
   ]
  },
  {
   "cell_type": "code",
   "execution_count": null,
   "metadata": {
    "collapsed": false
   },
   "outputs": [],
   "source": [
    "emotion_df = pd.DataFrame([get_nrc_sentiment(tweet) for tweet in tweets_df['text_clean']])\n",
    "print(emotion_df.sum())"
   ]
  },
  {
   "cell_type": "code",
   "execution_count": null,
   "metadata": {
    "collapsed": false
   },
   "outputs": [],
   "source": [
    "y = list(emotion_df.sum())\n",
    "x = list(range(len(y)))\n",
    "colors = ['red', 'blue', 'orange', 'red', 'green', 'red', 'green', 'orange', 'blue', 'green']\n",
    "plt.bar(x, y, width = 0.5, color = colors)\n",
    "plt.ylabel('Scores')\n",
    "plt.xticks(x, (list(emotion_df.columns)), rotation = 20)\n",
    "plt.title('Sentiment Analysis of Tweets for Moive Kingsman: The Golden Circle')\n",
    "plt.show()"
   ]
  },
  {
   "cell_type": "code",
   "execution_count": null,
   "metadata": {
    "collapsed": true
   },
   "outputs": [],
   "source": []
  }
 ],
 "metadata": {
  "anaconda-cloud": {},
  "kernelspec": {
   "display_name": "Python [default]",
   "language": "python",
   "name": "python3"
  },
  "language_info": {
   "codemirror_mode": {
    "name": "ipython",
    "version": 3
   },
   "file_extension": ".py",
   "mimetype": "text/x-python",
   "name": "python",
   "nbconvert_exporter": "python",
   "pygments_lexer": "ipython3",
   "version": "3.5.2"
  }
 },
 "nbformat": 4,
 "nbformat_minor": 1
}
