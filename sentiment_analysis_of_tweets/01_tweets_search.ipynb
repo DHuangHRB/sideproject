{
 "cells": [
  {
   "cell_type": "code",
   "execution_count": null,
   "metadata": {
    "collapsed": false
   },
   "outputs": [],
   "source": [
    "from twython import Twython, TwythonStreamer, TwythonError, TwythonRateLimitError, TwythonAuthError\n",
    "import jsonpickle\n",
    "import time\n",
    "import math"
   ]
  },
  {
   "cell_type": "code",
   "execution_count": null,
   "metadata": {
    "collapsed": true
   },
   "outputs": [],
   "source": [
    "CONSUMER_KEY = ''\n",
    "CONSUMER_SECRET = ''"
   ]
  },
  {
   "cell_type": "code",
   "execution_count": null,
   "metadata": {
    "collapsed": true
   },
   "outputs": [],
   "source": [
    "twitter = Twython(CONSUMER_KEY, CONSUMER_SECRET, oauth_version = 2)\n",
    "token = twitter.obtain_access_token()\n",
    "twitter = Twython(CONSUMER_KEY, access_token = token)"
   ]
  },
  {
   "cell_type": "code",
   "execution_count": null,
   "metadata": {
    "collapsed": true
   },
   "outputs": [],
   "source": [
    "'''\n",
    "    Parameters\n",
    "    \n",
    "    maxTweets:     number of downloaded tweets\n",
    "    tweetPerQuery: max number of tweets per query API permits\n",
    "    fName :        file to store tweets\n",
    "    \n",
    "    searchQuery:   search query\n",
    "    resultType:    mixed, recent, popular \n",
    "    lang:          language of tweets\n",
    "    sinceDate:     returns tweets created from the given date as YYYY-MM-DD\n",
    "    untilDate:     returns tweets created before the given date as YYYY-MM-DD\n",
    "    maxId:         returns tweets with ID less than\n",
    "    placeId:       returns tweets created within placeID, US = '96683cc9126741d1'\n",
    "    \n",
    "'''\n",
    "maxTweets = 10000\n",
    "tweetPerQuery = 100\n",
    "fName = 'tweets_kingsman.txt'\n",
    "\n",
    "searchQuery = 'kingsman OR kingsmanmovie -filter:retweets'\n",
    "resultType = 'mixed'\n",
    "lang = 'en'\n",
    "sinceDate = '2017-9-23'\n",
    "untilDate = '2017-9-24'\n",
    "maxId = None\n",
    "placeId = '96683cc9126741d1' "
   ]
  },
  {
   "cell_type": "code",
   "execution_count": null,
   "metadata": {
    "collapsed": false
   },
   "outputs": [],
   "source": [
    "tweetCount = 0\n",
    "print(\"Downloading total {0} tweets\".format(maxTweets))\n",
    "\n",
    "with open(fName, 'w') as fw:\n",
    "    while tweetCount < maxTweets:\n",
    "        try:\n",
    "            if tweetCount == 0:\n",
    "                new_tweets = twitter.search(q = searchQuery,\\\n",
    "                                            result_type = resultType,\\\n",
    "                                            lang = lang,\\\n",
    "                                            count = tweetPerQuery,\\\n",
    "                                            since = sinceDate,\\\n",
    "                                            until = untilDate)['statuses']\n",
    "            else:\n",
    "                new_tweets = twitter.search(q = searchQuery,\\\n",
    "                                            result_type = resultType,\\\n",
    "                                            lang = lang,\\\n",
    "                                            count = tweetPerQuery,\\\n",
    "                                            since = sinceDate,\\\n",
    "                                            until = untilDate,\\\n",
    "                                            max_id = maxId - 1)['statuses']\n",
    "            if not new_tweets:\n",
    "                print(\"No more tweets found\")\n",
    "                break\n",
    "\n",
    "            for tweet in new_tweets:\n",
    "                fw.write(jsonpickle.encode(tweet, unpicklable = False) + '\\n')\n",
    "\n",
    "            tweetCount += len(new_tweets)\n",
    "            maxId = new_tweets[-1]['id']\n",
    "            print(\"Downloaded {0} tweets\".format(tweetCount))\n",
    "            \n",
    "            callsLeft = float(twitter.get_lastfunction_header('x-rate-limit-remaining'))\n",
    "            timeLeft =  float(twitter.get_lastfunction_header('x-rate-limit-reset')) - time.time()\n",
    "            sleep_duration = math.ceil(timeLeft / callsLeft)\n",
    "            time.sleep(sleep_duration)\n",
    "\n",
    "        except TwythonError as e:\n",
    "            print(\"Error: {0}\".format(e.msg))\n",
    "            break\n",
    "\n",
    "print(\"Downloaded {0} tweets, Saved to {1}\".format(tweetCount, fName))"
   ]
  },
  {
   "cell_type": "code",
   "execution_count": null,
   "metadata": {
    "collapsed": true
   },
   "outputs": [],
   "source": []
  }
 ],
 "metadata": {
  "anaconda-cloud": {},
  "kernelspec": {
   "display_name": "Python [default]",
   "language": "python",
   "name": "python3"
  },
  "language_info": {
   "codemirror_mode": {
    "name": "ipython",
    "version": 3
   },
   "file_extension": ".py",
   "mimetype": "text/x-python",
   "name": "python",
   "nbconvert_exporter": "python",
   "pygments_lexer": "ipython3",
   "version": "3.5.2"
  }
 },
 "nbformat": 4,
 "nbformat_minor": 1
}
